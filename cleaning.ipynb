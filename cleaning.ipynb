{
 "cells": [
  {
   "cell_type": "code",
   "execution_count": 1,
   "metadata": {},
   "outputs": [],
   "source": [
    "import pandas as pd\n",
    "import numpy as np"
   ]
  },
  {
   "cell_type": "code",
   "execution_count": 2,
   "metadata": {},
   "outputs": [],
   "source": [
    "df = pd.read_csv('E:\\\\data scraping\\\\amazon_airpods.csv')"
   ]
  },
  {
   "cell_type": "code",
   "execution_count": 3,
   "metadata": {},
   "outputs": [
    {
     "data": {
      "text/html": [
       "<div>\n",
       "<style scoped>\n",
       "    .dataframe tbody tr th:only-of-type {\n",
       "        vertical-align: middle;\n",
       "    }\n",
       "\n",
       "    .dataframe tbody tr th {\n",
       "        vertical-align: top;\n",
       "    }\n",
       "\n",
       "    .dataframe thead th {\n",
       "        text-align: right;\n",
       "    }\n",
       "</style>\n",
       "<table border=\"1\" class=\"dataframe\">\n",
       "  <thead>\n",
       "    <tr style=\"text-align: right;\">\n",
       "      <th></th>\n",
       "      <th>Product Title</th>\n",
       "      <th>Product Price</th>\n",
       "      <th>Product Rating</th>\n",
       "      <th>Product Bullet Points</th>\n",
       "      <th>Product Description</th>\n",
       "      <th>Reviews</th>\n",
       "      <th>Techincal Details</th>\n",
       "    </tr>\n",
       "  </thead>\n",
       "  <tbody>\n",
       "    <tr>\n",
       "      <th>0</th>\n",
       "      <td>Apple AirPods Max Wireless Over-Ear Headphones...</td>\n",
       "      <td>59,900.</td>\n",
       "      <td>3.5  3.5 out of 5 stars</td>\n",
       "      <td>ULTIMATE OVER-EAR LISTENING EXPERIENCE — Apple...</td>\n",
       "      <td>AirPods Max, the ultimate listening experience...</td>\n",
       "      <td>ren2.0 out of 5 stars\\nBlack max\\nReviewed in ...</td>\n",
       "      <td>Brand   Apple     Colour   Starlight     Form ...</td>\n",
       "    </tr>\n",
       "  </tbody>\n",
       "</table>\n",
       "</div>"
      ],
      "text/plain": [
       "                                       Product Title Product Price  \\\n",
       "0  Apple AirPods Max Wireless Over-Ear Headphones...       59,900.   \n",
       "\n",
       "            Product Rating                              Product Bullet Points  \\\n",
       "0  3.5  3.5 out of 5 stars  ULTIMATE OVER-EAR LISTENING EXPERIENCE — Apple...   \n",
       "\n",
       "                                 Product Description  \\\n",
       "0  AirPods Max, the ultimate listening experience...   \n",
       "\n",
       "                                             Reviews  \\\n",
       "0  ren2.0 out of 5 stars\\nBlack max\\nReviewed in ...   \n",
       "\n",
       "                                   Techincal Details  \n",
       "0  Brand   Apple     Colour   Starlight     Form ...  "
      ]
     },
     "execution_count": 3,
     "metadata": {},
     "output_type": "execute_result"
    }
   ],
   "source": [
    "df.head()"
   ]
  },
  {
   "cell_type": "code",
   "execution_count": 20,
   "metadata": {},
   "outputs": [
    {
     "name": "stdout",
     "output_type": "stream",
     "text": [
      "<class 'pandas.core.frame.DataFrame'>\n",
      "RangeIndex: 1 entries, 0 to 0\n",
      "Data columns (total 7 columns):\n",
      " #   Column                 Non-Null Count  Dtype  \n",
      "---  ------                 --------------  -----  \n",
      " 0   Product Title          1 non-null      object \n",
      " 1   Product Price          1 non-null      float64\n",
      " 2   Product Rating         1 non-null      float32\n",
      " 3   Product Bullet Points  1 non-null      object \n",
      " 4   Product Description    1 non-null      object \n",
      " 5   Reviews                1 non-null      object \n",
      " 6   Techincal Details      1 non-null      object \n",
      "dtypes: float32(1), float64(1), object(5)\n",
      "memory usage: 184.0+ bytes\n"
     ]
    }
   ],
   "source": [
    "df.info()"
   ]
  },
  {
   "cell_type": "code",
   "execution_count": 14,
   "metadata": {},
   "outputs": [],
   "source": [
    "# Step 1: Remove unnecessary characters from numerical columns\n",
    "df['Product Price'] = df['Product Price'].astype(str).str.replace(',', '').str.strip()\n",
    "df['Product Rating'] = df['Product Rating'].str.extract(r'(\\d+\\.\\d+)')  # Extract numeric rating"
   ]
  },
  {
   "cell_type": "code",
   "execution_count": 21,
   "metadata": {},
   "outputs": [
    {
     "data": {
      "text/html": [
       "<div>\n",
       "<style scoped>\n",
       "    .dataframe tbody tr th:only-of-type {\n",
       "        vertical-align: middle;\n",
       "    }\n",
       "\n",
       "    .dataframe tbody tr th {\n",
       "        vertical-align: top;\n",
       "    }\n",
       "\n",
       "    .dataframe thead th {\n",
       "        text-align: right;\n",
       "    }\n",
       "</style>\n",
       "<table border=\"1\" class=\"dataframe\">\n",
       "  <thead>\n",
       "    <tr style=\"text-align: right;\">\n",
       "      <th></th>\n",
       "      <th>Product Title</th>\n",
       "      <th>Product Price</th>\n",
       "      <th>Product Rating</th>\n",
       "      <th>Product Bullet Points</th>\n",
       "      <th>Product Description</th>\n",
       "      <th>Reviews</th>\n",
       "      <th>Techincal Details</th>\n",
       "    </tr>\n",
       "  </thead>\n",
       "  <tbody>\n",
       "    <tr>\n",
       "      <th>0</th>\n",
       "      <td>Apple AirPods Max Wireless Over-Ear Headphones...</td>\n",
       "      <td>59900.0</td>\n",
       "      <td>3.5</td>\n",
       "      <td>ULTIMATE OVER-EAR LISTENING EXPERIENCE — Apple...</td>\n",
       "      <td>AirPods Max, the ultimate listening experience...</td>\n",
       "      <td>ren2.0 out of 5 stars\\nBlack max\\nReviewed in ...</td>\n",
       "      <td>Brand   Apple     Colour   Starlight     Form ...</td>\n",
       "    </tr>\n",
       "  </tbody>\n",
       "</table>\n",
       "</div>"
      ],
      "text/plain": [
       "                                       Product Title  Product Price  \\\n",
       "0  Apple AirPods Max Wireless Over-Ear Headphones...        59900.0   \n",
       "\n",
       "   Product Rating                              Product Bullet Points  \\\n",
       "0             3.5  ULTIMATE OVER-EAR LISTENING EXPERIENCE — Apple...   \n",
       "\n",
       "                                 Product Description  \\\n",
       "0  AirPods Max, the ultimate listening experience...   \n",
       "\n",
       "                                             Reviews  \\\n",
       "0  ren2.0 out of 5 stars\\nBlack max\\nReviewed in ...   \n",
       "\n",
       "                                   Techincal Details  \n",
       "0  Brand   Apple     Colour   Starlight     Form ...  "
      ]
     },
     "execution_count": 21,
     "metadata": {},
     "output_type": "execute_result"
    }
   ],
   "source": [
    "df.head()"
   ]
  },
  {
   "cell_type": "code",
   "execution_count": 19,
   "metadata": {},
   "outputs": [
    {
     "data": {
      "text/plain": [
       "Product Title             object\n",
       "Product Price            float64\n",
       "Product Rating           float32\n",
       "Product Bullet Points     object\n",
       "Product Description       object\n",
       "Reviews                   object\n",
       "Techincal Details         object\n",
       "dtype: object"
      ]
     },
     "execution_count": 19,
     "metadata": {},
     "output_type": "execute_result"
    }
   ],
   "source": [
    "# Converting the 'Product Price' and 'Product Rating' columns to float\n",
    "df['Product Price'] = df['Product Price'].astype(float)\n",
    "df['Product Rating'] = df['Product Rating'].astype(np.float32)\n",
    "\n",
    "# Verifying the datatype changes\n",
    "df.dtypes\n"
   ]
  },
  {
   "cell_type": "code",
   "execution_count": 22,
   "metadata": {},
   "outputs": [
    {
     "name": "stdout",
     "output_type": "stream",
     "text": [
      "   Brand     Colour Form Factor   Model Name Connectivity Technology\n",
      "0  Apple  Starlight    Over Ear  AirPods Max                Wireless\n"
     ]
    }
   ],
   "source": [
    "# Extract the technical details from the last column\n",
    "technical_details = df['Techincal Details'].iloc[0]\n",
    "\n",
    "# Split the string into key-value pairs\n",
    "details_list = technical_details.split('     ')  # Adjust the delimiter as necessary\n",
    "\n",
    "# Create a dictionary to hold the key-value pairs\n",
    "tech_dict = {}\n",
    "for detail in details_list:\n",
    "    if detail.strip():  # Ignore empty strings\n",
    "        key_value = detail.split('   ')  # Adjust the delimiter as necessary\n",
    "        if len(key_value) == 2:\n",
    "            key = key_value[0].strip()\n",
    "            value = key_value[1].strip()\n",
    "            tech_dict[key] = value\n",
    "\n",
    "# Create a DataFrame with separate columns for each key\n",
    "tech_df = pd.DataFrame([tech_dict])  # Using a list to create a single-row DataFrame\n",
    "\n",
    "# Display the DataFrame\n",
    "print(tech_df)"
   ]
  },
  {
   "cell_type": "code",
   "execution_count": 23,
   "metadata": {},
   "outputs": [],
   "source": [
    "# concat the original DataFrame with the technical details DataFrame\n",
    "df = pd.concat([df, tech_df], axis=1)"
   ]
  },
  {
   "cell_type": "code",
   "execution_count": 24,
   "metadata": {},
   "outputs": [
    {
     "data": {
      "text/html": [
       "<div>\n",
       "<style scoped>\n",
       "    .dataframe tbody tr th:only-of-type {\n",
       "        vertical-align: middle;\n",
       "    }\n",
       "\n",
       "    .dataframe tbody tr th {\n",
       "        vertical-align: top;\n",
       "    }\n",
       "\n",
       "    .dataframe thead th {\n",
       "        text-align: right;\n",
       "    }\n",
       "</style>\n",
       "<table border=\"1\" class=\"dataframe\">\n",
       "  <thead>\n",
       "    <tr style=\"text-align: right;\">\n",
       "      <th></th>\n",
       "      <th>Product Title</th>\n",
       "      <th>Product Price</th>\n",
       "      <th>Product Rating</th>\n",
       "      <th>Product Bullet Points</th>\n",
       "      <th>Product Description</th>\n",
       "      <th>Reviews</th>\n",
       "      <th>Techincal Details</th>\n",
       "      <th>Brand</th>\n",
       "      <th>Colour</th>\n",
       "      <th>Form Factor</th>\n",
       "      <th>Model Name</th>\n",
       "      <th>Connectivity Technology</th>\n",
       "    </tr>\n",
       "  </thead>\n",
       "  <tbody>\n",
       "    <tr>\n",
       "      <th>0</th>\n",
       "      <td>Apple AirPods Max Wireless Over-Ear Headphones...</td>\n",
       "      <td>59900.0</td>\n",
       "      <td>3.5</td>\n",
       "      <td>ULTIMATE OVER-EAR LISTENING EXPERIENCE — Apple...</td>\n",
       "      <td>AirPods Max, the ultimate listening experience...</td>\n",
       "      <td>ren2.0 out of 5 stars\\nBlack max\\nReviewed in ...</td>\n",
       "      <td>Brand   Apple     Colour   Starlight     Form ...</td>\n",
       "      <td>Apple</td>\n",
       "      <td>Starlight</td>\n",
       "      <td>Over Ear</td>\n",
       "      <td>AirPods Max</td>\n",
       "      <td>Wireless</td>\n",
       "    </tr>\n",
       "  </tbody>\n",
       "</table>\n",
       "</div>"
      ],
      "text/plain": [
       "                                       Product Title  Product Price  \\\n",
       "0  Apple AirPods Max Wireless Over-Ear Headphones...        59900.0   \n",
       "\n",
       "   Product Rating                              Product Bullet Points  \\\n",
       "0             3.5  ULTIMATE OVER-EAR LISTENING EXPERIENCE — Apple...   \n",
       "\n",
       "                                 Product Description  \\\n",
       "0  AirPods Max, the ultimate listening experience...   \n",
       "\n",
       "                                             Reviews  \\\n",
       "0  ren2.0 out of 5 stars\\nBlack max\\nReviewed in ...   \n",
       "\n",
       "                                   Techincal Details  Brand     Colour  \\\n",
       "0  Brand   Apple     Colour   Starlight     Form ...  Apple  Starlight   \n",
       "\n",
       "  Form Factor   Model Name Connectivity Technology  \n",
       "0    Over Ear  AirPods Max                Wireless  "
      ]
     },
     "execution_count": 24,
     "metadata": {},
     "output_type": "execute_result"
    }
   ],
   "source": [
    "df.head()"
   ]
  },
  {
   "cell_type": "code",
   "execution_count": 27,
   "metadata": {},
   "outputs": [],
   "source": [
    "df = df.to_csv('E:\\\\data scraping\\\\amazon_airpods_cleaned.csv', index=False)"
   ]
  },
  {
   "cell_type": "code",
   "execution_count": 28,
   "metadata": {},
   "outputs": [
    {
     "name": "stdout",
     "output_type": "stream",
     "text": [
      "None\n"
     ]
    }
   ],
   "source": [
    "print(df)"
   ]
  }
 ],
 "metadata": {
  "kernelspec": {
   "display_name": "scraping",
   "language": "python",
   "name": "python3"
  },
  "language_info": {
   "codemirror_mode": {
    "name": "ipython",
    "version": 3
   },
   "file_extension": ".py",
   "mimetype": "text/x-python",
   "name": "python",
   "nbconvert_exporter": "python",
   "pygments_lexer": "ipython3",
   "version": "3.12.4"
  }
 },
 "nbformat": 4,
 "nbformat_minor": 2
}
